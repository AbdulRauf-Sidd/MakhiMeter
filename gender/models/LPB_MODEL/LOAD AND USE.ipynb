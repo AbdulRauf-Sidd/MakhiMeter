{
 "cells": [
  {
   "cell_type": "markdown",
   "id": "0aab886a-928f-4e25-9c75-3b31f65010ee",
   "metadata": {},
   "source": [
    "1. Load the Model & Feature Extraction Parameters"
   ]
  },
  {
   "cell_type": "code",
   "execution_count": 3,
   "id": "c2c73c47-13b3-4f3e-a4f1-46321b10059c",
   "metadata": {},
   "outputs": [
    {
     "name": "stderr",
     "output_type": "stream",
     "text": [
      "D:\\VB\\Lib\\site-packages\\paramiko\\pkey.py:82: CryptographyDeprecationWarning: TripleDES has been moved to cryptography.hazmat.decrepit.ciphers.algorithms.TripleDES and will be removed from this module in 48.0.0.\n",
      "  \"cipher\": algorithms.TripleDES,\n",
      "D:\\VB\\Lib\\site-packages\\paramiko\\transport.py:219: CryptographyDeprecationWarning: Blowfish has been moved to cryptography.hazmat.decrepit.ciphers.algorithms.Blowfish and will be removed from this module in 45.0.0.\n",
      "  \"class\": algorithms.Blowfish,\n",
      "D:\\VB\\Lib\\site-packages\\paramiko\\transport.py:243: CryptographyDeprecationWarning: TripleDES has been moved to cryptography.hazmat.decrepit.ciphers.algorithms.TripleDES and will be removed from this module in 48.0.0.\n",
      "  \"class\": algorithms.TripleDES,\n"
     ]
    }
   ],
   "source": [
    "from joblib import load\n",
    "import cv2\n",
    "import numpy as np\n",
    "from skimage.feature import local_binary_pattern, hog\n",
    "\n",
    "# Load the trained SVM model and feature params\n",
    "model = load('best_svm_gender_model.pkl')\n",
    "params = load('feature_extraction_params.pkl')"
   ]
  },
  {
   "cell_type": "code",
   "execution_count": 5,
   "id": "628ba08c-79e8-4189-a8dd-fd13f2ad7d3d",
   "metadata": {},
   "outputs": [],
   "source": [
    "def process_new_image(image):\n",
    "    # Convert to grayscale if needed\n",
    "    if len(image.shape) > 2:\n",
    "        image = cv2.cvtColor(image, cv2.COLOR_BGR2GRAY)\n",
    "    \n",
    "    # Resize to the expected input size\n",
    "    image = cv2.resize(image, params['preprocessing']['target_size'])\n",
    "    \n",
    "    # Preprocessing (CLAHE + Gaussian Blur)\n",
    "    clahe = cv2.createCLAHE(**params['preprocessing']['clahe_params'])\n",
    "    image = clahe.apply(image)\n",
    "    image = cv2.GaussianBlur(image, params['preprocessing']['gaussian_blur'], 0)\n",
    "    \n",
    "    # Compute LBP features\n",
    "    lbp_image = local_binary_pattern(image, **params['lbp_params'])\n",
    "    n_bins = params['lbp_params']['P'] + 2\n",
    "    lbp_hist, _ = np.histogram(lbp_image.ravel(), bins=n_bins, range=(0, n_bins))\n",
    "    lbp_hist = lbp_hist.astype('float32')\n",
    "    lbp_hist = (lbp_hist + 1e-7) / (np.sum(lbp_hist) + 1e-7)\n",
    "    \n",
    "    # Compute HOG features\n",
    "    hog_features = hog(image, **params['hog_params'])\n",
    "    \n",
    "    # Combine features\n",
    "    combined_features = np.concatenate([lbp_hist, hog_features])\n",
    "    return combined_features"
   ]
  },
  {
   "cell_type": "code",
   "execution_count": null,
   "id": "21d0dd34-e052-40ab-9226-bac2a9bdc544",
   "metadata": {},
   "outputs": [],
   "source": [
    "import os\n",
    "\n",
    "def test_on_dataset(dataset_dir, true_label):\n",
    "    correct = 0\n",
    "    total = 0\n",
    "    \n",
    "    for filename in os.listdir(dataset_dir):\n",
    "        if filename.lower().endswith(('jpg', 'jpeg', 'png')):\n",
    "            img_path = os.path.join(dataset_dir, filename)\n",
    "            image = cv2.imread(img_path)\n",
    "            \n",
    "            try:\n",
    "                features = process_new_image(image)\n",
    "                prediction = model.predict([features])[0]\n",
    "                \n",
    "                if prediction == true_label:\n",
    "                    correct += 1\n",
    "                total += 1\n",
    "            except Exception as e:\n",
    "                print(f\"Error processing {filename}: {e}\")\n",
    "    \n",
    "    accuracy = (correct / total) * 100\n",
    "    print(f\"Accuracy on {dataset_dir}: {accuracy:.2f}%\")\n",
    "\n",
    "# Example usage\n",
    "test_on_dataset('path_to_male_test_images', 0)   # Male label = 0\n",
    "test_on_dataset('path_to_female_test_images', 1) # Female label = 1"
   ]
  }
 ],
 "metadata": {
  "kernelspec": {
   "display_name": "Python [conda env:base] *",
   "language": "python",
   "name": "conda-base-py"
  },
  "language_info": {
   "codemirror_mode": {
    "name": "ipython",
    "version": 3
   },
   "file_extension": ".py",
   "mimetype": "text/x-python",
   "name": "python",
   "nbconvert_exporter": "python",
   "pygments_lexer": "ipython3",
   "version": "3.12.7"
  }
 },
 "nbformat": 4,
 "nbformat_minor": 5
}
